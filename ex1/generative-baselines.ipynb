{
 "cells": [
  {
   "cell_type": "markdown",
   "id": "initial_id",
   "metadata": {
    "collapsed": true
   },
   "source": [
    "# Utils"
   ]
  },
  {
   "cell_type": "code",
   "execution_count": null,
   "id": "75f5f52f",
   "metadata": {},
   "outputs": [],
   "source": [
    "from sklearn import datasets\n",
    "import math\n",
    "\n",
    "def get_train_test_data(n=100, seed=11121):\n",
    "    # Generate all data\n",
    "    data_all = datasets.make_moons(n, random_state=seed)[0]\n",
    "\n",
    "    # Split into train/test data\n",
    "    train_n = math.floor(0.8 * n)\n",
    "    train_data = data_all[:train_n]\n",
    "    test_data = data_all[train_n:]\n",
    "\n",
    "    return train_data, test_data\n",
    "\n",
    "\n",
    "train_data, test_data = get_train_test_data()\n"
   ]
  }
 ],
 "metadata": {
  "kernelspec": {
   "display_name": "GNN",
   "language": "python",
   "name": "python3"
  },
  "language_info": {
   "codemirror_mode": {
    "name": "ipython",
    "version": 2
   },
   "file_extension": ".py",
   "mimetype": "text/x-python",
   "name": "python",
   "nbconvert_exporter": "python",
   "pygments_lexer": "ipython2",
   "version": "3.11.10"
  }
 },
 "nbformat": 4,
 "nbformat_minor": 5
}
