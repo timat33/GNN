{
 "cells": [
  {
   "metadata": {},
   "cell_type": "markdown",
   "source": "Necessary GMM imports",
   "id": "4e17b750fb2ee9b9"
  },
  {
   "metadata": {
    "ExecuteTime": {
     "end_time": "2024-11-01T17:00:05.970117Z",
     "start_time": "2024-11-01T17:00:05.964698Z"
    }
   },
   "cell_type": "code",
   "source": [
    "from sklearn.cluster import KMeans\n",
    "import numpy as np\n",
    "from scipy.stats import multivariate_normal\n",
    "from utils import get_train_test_data\n",
    "from MMD import calculate_mmd"
   ],
   "id": "43941639980e707f",
   "outputs": [],
   "execution_count": 4
  },
  {
   "metadata": {},
   "cell_type": "markdown",
   "source": "Define helper functions for gmm",
   "id": "b6e4a261acabcb3d"
  },
  {
   "cell_type": "code",
   "id": "initial_id",
   "metadata": {
    "collapsed": true,
    "ExecuteTime": {
     "end_time": "2024-11-01T17:01:30.697345Z",
     "start_time": "2024-11-01T17:01:30.679113Z"
    }
   },
   "source": [
    "# Define helper functions for gmm\n",
    "def random_initialisation(train_data, C, cov_normalisation=0.2, seed=None):\n",
    "    if seed:\n",
    "        np.random.seed(seed)\n",
    "    # Weights are uniform\n",
    "    weights_array = np.ones(C) * 1 / C\n",
    "\n",
    "    # Select C data points to act as initial means\n",
    "    data_indices = np.random.choice(len(train_data), C, replace=False)\n",
    "    means_array = train_data[data_indices]\n",
    "\n",
    "    # Take empirical covariance and multiply by a normalisation factor for random covariances\n",
    "    data_empirical_covariance = np.cov(train_data, rowvar=False)\n",
    "    covariances_array = np.repeat(data_empirical_covariance[np.newaxis], C,\n",
    "                                  axis=0) * cov_normalisation\n",
    "\n",
    "    return weights_array, means_array, covariances_array\n",
    "\n",
    "def kmeans_initialisation(train_data, C, seed):\n",
    "    # Weights are uniform\n",
    "    weights_array = np.ones(C) * 1 / C\n",
    "\n",
    "    # Perform k means clustering; initial means are cluster centers, initial variances are cluster empirical variances\n",
    "    kmeans = KMeans(n_clusters=C, init='k-means++', random_state=seed).fit(train_data)\n",
    "\n",
    "    ## Obtain means\n",
    "    means_array = kmeans.cluster_centers_\n",
    "\n",
    "    ## Obtain covariance arrays by getting empirical covariance within each\n",
    "    covariances_array = np.zeros((C, 2, 2))\n",
    "    for k in range(C):\n",
    "        cluster_data = train_data[kmeans.labels_ == k]\n",
    "        deviations = cluster_data - means_array[k]\n",
    "        covariances_array[k] = np.cov(deviations, rowvar=False)\n",
    "\n",
    "    return weights_array, means_array, covariances_array\n",
    "\n",
    "def get_influence_array(means_array, covariances_array, weights_array, train_data, C):\n",
    "    # Store component and full distributions for getting the influence array\n",
    "    component_dists = [multivariate_normal(means_array[i], covariances_array[i]) for i in range(C)]\n",
    "\n",
    "    # define pdf_values: element i,k is the probability density of datapoint i in component k\n",
    "    pdf_values = np.array([[dist.pdf(data_point) for dist in component_dists] for data_point in train_data])\n",
    "\n",
    "    # Define gamma array: gamma_i,k = 'influences of component k on instance i'\n",
    "    influence_array = weights_array * pdf_values / np.sum(weights_array * pdf_values, axis=1, keepdims=True)\n",
    "\n",
    "    return influence_array\n",
    "\n",
    "def update_parameters(train_data, influence_array, C):\n",
    "    n = len(train_data)\n",
    "    # Update parameters\n",
    "    weights_array = np.sum(influence_array, axis = 0)/n\n",
    "\n",
    "    means_array = np.zeros((C, 2))\n",
    "    for k in range(C):\n",
    "        means_array[k] = np.sum((influence_array[:, k, np.newaxis]*train_data), axis = 0)/(n*weights_array[k])\n",
    "\n",
    "    covariances_array = np.zeros((C, 2, 2))\n",
    "    for k in range(C):\n",
    "        deviations = train_data - means_array[k]\n",
    "        covariances_array[k] = \\\n",
    "            np.array([influence_array[i,k]*np.outer(deviations[i], deviations[i]) for i in range(n)]).sum(axis=0) \\\n",
    "            /influence_array.sum(axis = 0)[k]\n",
    "\n",
    "    return weights_array, means_array, covariances_array\n",
    "\n",
    "def make_gmm_pdf(weights_array, means_array, covariances_array):\n",
    "    def gmm_pdf(x):\n",
    "        component_dists = [multivariate_normal(means_array[i], covariances_array[i]) for i in range(len(means_array))]\n",
    "        pdf_value = np.sum([weight*dist.pdf(x) for weight, dist in zip(weights_array, component_dists)])\n",
    "        return pdf_value\n",
    "\n",
    "    return gmm_pdf\n",
    "\n",
    "def train_gmm(train_data, C, num_iter, init_method, init_covariance_normalisation, seed):\n",
    "    # Get initial guesses\n",
    "    assert init_method in ['random', 'kmeans++'], 'Invalid initialisation method'\n",
    "\n",
    "    if init_method == 'random':\n",
    "        weights_array, means_array, covariances_array = random_initialisation(train_data,\n",
    "                                                                              C,\n",
    "                                                                              init_covariance_normalisation,\n",
    "                                                                              seed)\n",
    "    elif init_method == 'kmeans++':\n",
    "        weights_array, means_array, covariances_array = kmeans_initialisation(train_data,\n",
    "                                                                              C,\n",
    "                                                                              seed)\n",
    "\n",
    "    # Iterate EM algorithm\n",
    "    for t in range(num_iter):\n",
    "        influence_array = get_influence_array(means_array, covariances_array, weights_array, train_data, C)\n",
    "\n",
    "        weights_array, means_array, covariances_array = update_parameters(train_data, influence_array, C)\n",
    "\n",
    "    return weights_array, means_array, covariances_array\n",
    "\n",
    "def sample_from_gmm(weights_array, means_array, covariances_array, n, seed):\n",
    "    if seed:\n",
    "        np.random.seed(seed)\n",
    "\n",
    "    # Choose mixture component\n",
    "    k = np.random.choice(len(weights_array), p=weights_array)\n",
    "\n",
    "    chosen_mvn = multivariate_normal(means_array[k], covariances_array[k])\n",
    "    samples = chosen_mvn.rvs(n)\n",
    "\n",
    "    return samples\n",
    "\n"
   ],
   "outputs": [],
   "execution_count": 11
  },
  {
   "metadata": {},
   "cell_type": "markdown",
   "source": "Obtain GMM",
   "id": "e2fb4bbcd49da9d4"
  },
  {
   "metadata": {
    "ExecuteTime": {
     "end_time": "2024-11-01T17:01:48.509026Z",
     "start_time": "2024-11-01T17:01:48.235375Z"
    }
   },
   "cell_type": "code",
   "source": [
    "# Fix data parameters\n",
    "n = 50\n",
    "init_method = 'random' # or kmeans++\n",
    "seed = 11121\n",
    "\n",
    "# Fix GMM hyperparameters:\n",
    "C = 5\n",
    "num_iter = 30\n",
    "init_covariance_normalisation = 0.1 # only for random init\n",
    "\n",
    "\n",
    "# Get data\n",
    "train_data, test_data = get_train_test_data(n, seed)\n",
    "\n",
    "weights_array, means_array, covariances_array = \\\n",
    "    train_gmm(train_data, C, num_iter, init_method, init_covariance_normalisation, seed)\n",
    "\n",
    "learned_samples = sample_from_gmm(weights_array, means_array, covariances_array, n, seed)\n",
    "\n",
    "# Caclulate MMD\n",
    "gmm_mmd = calculate_mmd(test_data, learned_samples)\n",
    "\n",
    "print(gmm_mmd)"
   ],
   "id": "997bc073f2b087a4",
   "outputs": [
    {
     "name": "stdout",
     "output_type": "stream",
     "text": [
      "0.5845346645917521\n"
     ]
    }
   ],
   "execution_count": 21
  }
 ],
 "metadata": {
  "kernelspec": {
   "display_name": "Python 3",
   "language": "python",
   "name": "python3"
  },
  "language_info": {
   "codemirror_mode": {
    "name": "ipython",
    "version": 2
   },
   "file_extension": ".py",
   "mimetype": "text/x-python",
   "name": "python",
   "nbconvert_exporter": "python",
   "pygments_lexer": "ipython2",
   "version": "2.7.6"
  }
 },
 "nbformat": 4,
 "nbformat_minor": 5
}
